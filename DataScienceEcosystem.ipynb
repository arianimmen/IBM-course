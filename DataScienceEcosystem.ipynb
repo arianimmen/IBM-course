{
 "cells": [
  {
   "cell_type": "markdown",
   "id": "6ec34342-83bc-4729-bc68-7fc65ae92148",
   "metadata": {},
   "source": [
    "# Data Science Tools and Ecosystem"
   ]
  },
  {
   "cell_type": "markdown",
   "id": "ab77984e-a91a-4086-a1a1-4973b1e8aeb9",
   "metadata": {},
   "source": [
    "In this notebook, Data Science Tools and Ecosystem are summarized.\n"
   ]
  },
  {
   "cell_type": "markdown",
   "id": "d6af8ddf-d81f-488f-b47e-3c4c456cd4d5",
   "metadata": {},
   "source": [
    "**Objectives:**  \n",
    "- List popular languages for Data Science\n",
    "- Some of the commonly used libraries used by Data Scientists\n",
    "- Data Science Tools"
   ]
  },
  {
   "cell_type": "markdown",
   "id": "ef9ab3f7-4bca-43d1-b79d-97dbf5004c71",
   "metadata": {},
   "source": [
    "Some of the popular languages that Data Scientists use are:\n",
    "1. Python\n",
    "2. R\n",
    "3. SQL\n"
   ]
  },
  {
   "cell_type": "markdown",
   "id": "856a55d0-8151-4360-95c4-f0cd8a077ecc",
   "metadata": {},
   "source": [
    "Some of the commonly used libraries used by Data Scientists include:\n",
    "1. Numpy\n",
    "2. Matplotlib\n",
    "3. Pandas\n",
    "4. Scikitlearn\n",
    "5. Tensorflow\n",
    "6. pytorch"
   ]
  },
  {
   "cell_type": "markdown",
   "id": "b3aae2f0-8f5a-4aca-815b-274ee3619e29",
   "metadata": {},
   "source": [
    "|Data Science Tools|\n",
    "|------------------|\n",
    "|Vs code|\n",
    "|Jupyter Notebook(Lab)|\n",
    "|Spyder|"
   ]
  },
  {
   "cell_type": "markdown",
   "id": "72144658-501e-47d4-93dc-58324259fc46",
   "metadata": {},
   "source": [
    "### Below are a few examples of evaluating arithmetic expressions in Python.\r\n"
   ]
  },
  {
   "cell_type": "code",
   "execution_count": 4,
   "id": "978c2583-a021-46d4-84ee-4655a39195fa",
   "metadata": {},
   "outputs": [
    {
     "data": {
      "text/plain": [
       "17"
      ]
     },
     "execution_count": 4,
     "metadata": {},
     "output_type": "execute_result"
    }
   ],
   "source": [
    "# This a simple arithmetic expression to mutiply then add integers\n",
    "(4*3)+5"
   ]
  },
  {
   "cell_type": "code",
   "execution_count": 5,
   "id": "bb0976c1-cab7-4a50-9634-18efe94d083b",
   "metadata": {},
   "outputs": [
    {
     "data": {
      "text/plain": [
       "3.3333333333333335"
      ]
     },
     "execution_count": 5,
     "metadata": {},
     "output_type": "execute_result"
    }
   ],
   "source": [
    "# This will convert 200 minutes to hours by diving by 60\n",
    "hour = 200 / 60\n",
    "hour"
   ]
  },
  {
   "cell_type": "markdown",
   "id": "8255bed7-4216-4b74-b119-ad5bcaa2592b",
   "metadata": {},
   "source": [
    "## Author\n",
    "Arian Immen"
   ]
  }
 ],
 "metadata": {
  "kernelspec": {
   "display_name": "Python 3 (ipykernel)",
   "language": "python",
   "name": "python3"
  },
  "language_info": {
   "codemirror_mode": {
    "name": "ipython",
    "version": 3
   },
   "file_extension": ".py",
   "mimetype": "text/x-python",
   "name": "python",
   "nbconvert_exporter": "python",
   "pygments_lexer": "ipython3",
   "version": "3.12.0"
  }
 },
 "nbformat": 4,
 "nbformat_minor": 5
}
